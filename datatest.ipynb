{
 "cells": [
  {
   "cell_type": "code",
   "execution_count": 388,
   "id": "8efd3efa-2fbd-4577-89b2-3d2a44a626cb",
   "metadata": {},
   "outputs": [
    {
     "name": "stdout",
     "output_type": "stream",
     "text": [
      "Thu Apr 22 13:00:07 2021       \n",
      "+-----------------------------------------------------------------------------+\n",
      "| NVIDIA-SMI 418.67       Driver Version: 418.67       CUDA Version: 10.1     |\n",
      "|-------------------------------+----------------------+----------------------+\n",
      "| GPU  Name        Persistence-M| Bus-Id        Disp.A | Volatile Uncorr. ECC |\n",
      "| Fan  Temp  Perf  Pwr:Usage/Cap|         Memory-Usage | GPU-Util  Compute M. |\n",
      "|===============================+======================+======================|\n",
      "|   0  Tesla P40           On   | 00000000:00:06.0 Off |                  Off |\n",
      "| N/A   53C    P0    59W / 250W |   4777MiB / 24451MiB |      0%      Default |\n",
      "+-------------------------------+----------------------+----------------------+\n",
      "                                                                               \n",
      "+-----------------------------------------------------------------------------+\n",
      "| Processes:                                                       GPU Memory |\n",
      "|  GPU       PID   Type   Process name                             Usage      |\n",
      "|=============================================================================|\n",
      "+-----------------------------------------------------------------------------+\n"
     ]
    }
   ],
   "source": [
    "!nvidia-smi"
   ]
  },
  {
   "cell_type": "code",
   "execution_count": 389,
   "id": "90178856-d772-4f16-ac61-773553dd8e0e",
   "metadata": {},
   "outputs": [
    {
     "name": "stdout",
     "output_type": "stream",
     "text": [
      "Filesystem      Size  Used Avail Use% Mounted on\n",
      "overlay          99G   77G   17G  83% /\n",
      "tmpfs            64M     0   64M   0% /dev\n",
      "tmpfs            30G     0   30G   0% /sys/fs/cgroup\n",
      "shm             1.0G  412K  1.0G   1% /dev/shm\n",
      "/dev/xvdb1       99G   77G   17G  83% /etc/hosts\n",
      "tmpfs            30G   12K   30G   1% /proc/driver/nvidia\n",
      "/dev/xvda1       48G  9.1G   36G  21% /usr/bin/nvidia-smi\n",
      "udev             30G     0   30G   0% /dev/nvidia1\n",
      "tmpfs            30G     0   30G   0% /proc/acpi\n",
      "tmpfs            30G     0   30G   0% /proc/scsi\n",
      "tmpfs            30G     0   30G   0% /sys/firmware\n"
     ]
    }
   ],
   "source": [
    "!df -h"
   ]
  },
  {
   "cell_type": "code",
   "execution_count": 390,
   "id": "7e698c10-124f-4f01-8a30-937c8ad79c78",
   "metadata": {},
   "outputs": [
    {
     "name": "stdout",
     "output_type": "stream",
     "text": [
      "/opt/ml\n"
     ]
    }
   ],
   "source": [
    "cd "
   ]
  },
  {
   "cell_type": "code",
   "execution_count": 392,
   "id": "15cade2e-6407-4387-b021-bdad95a663b7",
   "metadata": {},
   "outputs": [
    {
     "name": "stdout",
     "output_type": "stream",
     "text": [
      "35G\t.\n",
      "21G\t./.local\n",
      "6.9G\t./code\n",
      "2.7G\t./.cache\n",
      "760M\t./.pororo\n",
      "180M\t./wandb\n",
      "49M\t./nltk_data\n",
      "26M\t./input\n",
      "484K\t./.ipython\n",
      "36K\t./.jupyter\n",
      "12K\t./.config\n",
      "8.0K\t./.nv\n",
      "4.0K\t./.ipynb_checkpoints\n"
     ]
    }
   ],
   "source": [
    "!du -h --max-depth=1 | sort -hr"
   ]
  },
  {
   "cell_type": "code",
   "execution_count": 393,
   "id": "7b173bbe-6bd0-40cc-b373-9ec1cd67aaa4",
   "metadata": {},
   "outputs": [],
   "source": [
    "!rm -r ./.local/share/Trash/files"
   ]
  },
  {
   "cell_type": "code",
   "execution_count": 67,
   "id": "02e0c5f5-b7b1-48d0-aa2e-636c161d96d8",
   "metadata": {
    "tags": []
   },
   "outputs": [
    {
     "data": {
      "text/plain": [
       "{'관계_없음': 0,\n",
       " '인물:배우자': 1,\n",
       " '인물:직업/직함': 2,\n",
       " '단체:모회사': 3,\n",
       " '인물:소속단체': 4,\n",
       " '인물:동료': 5,\n",
       " '단체:별칭': 6,\n",
       " '인물:출신성분/국적': 7,\n",
       " '인물:부모님': 8,\n",
       " '단체:본사_국가': 9,\n",
       " '단체:구성원': 10,\n",
       " '인물:기타_친족': 11,\n",
       " '단체:창립자': 12,\n",
       " '단체:주주': 13,\n",
       " '인물:사망_일시': 14,\n",
       " '단체:상위_단체': 15,\n",
       " '단체:본사_주(도)': 16,\n",
       " '단체:제작': 17,\n",
       " '인물:사망_원인': 18,\n",
       " '인물:출생_도시': 19,\n",
       " '단체:본사_도시': 20,\n",
       " '인물:자녀': 21,\n",
       " '인물:제작': 22,\n",
       " '단체:하위_단체': 23,\n",
       " '인물:별칭': 24,\n",
       " '인물:형제/자매/남매': 25,\n",
       " '인물:출생_국가': 26,\n",
       " '인물:출생_일시': 27,\n",
       " '단체:구성원_수': 28,\n",
       " '단체:자회사': 29,\n",
       " '인물:거주_주(도)': 30,\n",
       " '단체:해산일': 31,\n",
       " '인물:거주_도시': 32,\n",
       " '단체:창립일': 33,\n",
       " '인물:종교': 34,\n",
       " '인물:거주_국가': 35,\n",
       " '인물:용의자': 36,\n",
       " '인물:사망_도시': 37,\n",
       " '단체:정치/종교성향': 38,\n",
       " '인물:학교': 39,\n",
       " '인물:사망_국가': 40,\n",
       " '인물:나이': 41}"
      ]
     },
     "execution_count": 67,
     "metadata": {},
     "output_type": "execute_result"
    }
   ],
   "source": [
    "import pickle\n",
    "import pandas as pd\n",
    "import copy\n",
    "with open('/opt/ml/input/data/label_type.pkl', 'rb') as f:\n",
    "    label_type = pickle.load(f)\n",
    "df = pd.read_csv('/opt/ml/input/data/train/train.tsv', sep='\\t', names=[1,'sentence',3,4,5,6,7,8,'label'])\n",
    "\n",
    "label = copy.deepcopy(label_type)\n",
    "label\n",
    "def class2label(preds):\n",
    "    with open('/opt/ml/input/data/label_type.pkl', 'rb') as f:\n",
    "        label_type = pickle.load(f)\n",
    "    trans = {label_type[k]:k for k in label_type}\n",
    "    return [trans[pred] for pred in preds]\n",
    "class2label([1,2,3,4])\n",
    "label"
   ]
  },
  {
   "cell_type": "code",
   "execution_count": 28,
   "id": "b5864bdf-0169-4688-bdea-ab16788e515b",
   "metadata": {
    "tags": []
   },
   "outputs": [
    {
     "data": {
      "text/html": [
       "<div>\n",
       "<style scoped>\n",
       "    .dataframe tbody tr th:only-of-type {\n",
       "        vertical-align: middle;\n",
       "    }\n",
       "\n",
       "    .dataframe tbody tr th {\n",
       "        vertical-align: top;\n",
       "    }\n",
       "\n",
       "    .dataframe thead th {\n",
       "        text-align: right;\n",
       "    }\n",
       "</style>\n",
       "<table border=\"1\" class=\"dataframe\">\n",
       "  <thead>\n",
       "    <tr style=\"text-align: right;\">\n",
       "      <th></th>\n",
       "      <th>sentence</th>\n",
       "      <th>entity_01</th>\n",
       "      <th>entity_02</th>\n",
       "      <th>label</th>\n",
       "    </tr>\n",
       "  </thead>\n",
       "  <tbody>\n",
       "  </tbody>\n",
       "</table>\n",
       "</div>"
      ],
      "text/plain": [
       "Empty DataFrame\n",
       "Columns: [sentence, entity_01, entity_02, label]\n",
       "Index: []"
      ]
     },
     "execution_count": 28,
     "metadata": {},
     "output_type": "execute_result"
    }
   ],
   "source": [
    "import re\n",
    "from pprint import pprint\n",
    "filter = df['sentence'].isin(['14'])\n",
    "sparse_data = df.loc[filter,:]\n",
    "\n",
    "sparse_data = pd.DataFrame({'sentence':sparse_data['sentence'],'entity_01':sparse_data[3],'entity_02':sparse_data[6],'label':sparse_data.label,})\n",
    "#sparse_data.to_csv('./code/test/인물_동료.csv', index=False)\n",
    "sparse_data"
   ]
  },
  {
   "cell_type": "code",
   "execution_count": 106,
   "id": "97642713-7379-4ba3-9c3e-8116711c178b",
   "metadata": {
    "collapsed": true,
    "jupyter": {
     "outputs_hidden": true
    },
    "tags": []
   },
   "outputs": [
    {
     "data": {
      "text/plain": [
       "array(['감독', '송수건', '이사벨라', '김치', '한 명', '1833', '부르봉 왕가', '21개', '국민의당',\n",
       "       '성남시', '내셔널리그', '이승만', '노무현', '헨리 5세', '나혜석', '아빠', '알코올', '스튜어트',\n",
       "       '의료진', '순교자', '우크라이나 프리미어리그', '황충', '네덜란드',\n",
       "       '1841년 9월 10일 - 1897년 10월 3일', '수코타이 왕조', '자유한국당', '신동빈', '일본서기',\n",
       "       '국민', '딸', '동양화', 'LG전자', '하워드 슐츠', '테오도시우스 1세', '전남대병원', '클라우드',\n",
       "       '딸', '전라남도', '가수', '구사론', '지토 천황', '2녀 중 첫째', '고바야시 다케시', '소성왕',\n",
       "       '넥서스 5', '할아버지', '베네수엘라', '감독', '미소공위', 'NBA', '압록강', '서대석', '순창',\n",
       "       '장군', '자유한국당', '마이너 리그', '연세대학교', '경제학', 'KTB투자증권', '토머스 제퍼슨',\n",
       "       '1994년', '2007년 6월 16일', '샤를 10세', '레미콘', '미국 육군', '질병관리본부장',\n",
       "       '능원대군', '크시보우스티', '조영식', '요한 복음서', '1955년', '네티즌', '시', '박정호',\n",
       "       '올해', '러시아', '골키퍼', '세리에 A', '1988년 10월 4일', '정은경', '농협중앙회', '승리',\n",
       "       '코로나19', '관계자', '센트럴 리그', '카디프', '자유한국당', 'NATO', '대한민국', '바이올린',\n",
       "       '김정은', '유일한', '석가모니 부처', '장갑순양함', '긴메이 천황', '탈레스', '빅토리아', '519년',\n",
       "       '센트럴 리그', '스웨덴', '자유당', '원내대표', '김대중', '아들 윤후', '대한민국', 'UEFA',\n",
       "       '1993년', '씨', '응답자', '10개', '중국공산당', '골키퍼', 'OLED', '조지 W. 부시',\n",
       "       '일본제국 해군', '854년', 'CJ그룹 회장', '요하네스 케플러', '결승', '연방상원', '2019년도',\n",
       "       '제2군단', 'CPI', '민주당', '조선로동당', '오슬로', '대한민국', '2015 시즌', '정용진',\n",
       "       'ABA', '노무현', '손흥민', '서울', 'UEFA', '최호진', '노무현', '더블린', '2분기',\n",
       "       '자유한국당', '국민', '충북', '구청장', '1946년', '번주', '치과', '2 분데스리가', '소상공인',\n",
       "       '홍원식', '장관', '대한민국', '함태호', '아들 윤후', '사학자', '루이 14세', '유산슬',\n",
       "       '검찰총장', '황치와 넉치', '고다이고 천황', '3사', '경찰', '김대중', 'MLCC', '오리온',\n",
       "       '송재경', '2019', '선수', '대한민국', '대인선', '2014년', '루퍼트 그린트', '박재규', '토',\n",
       "       '동기', '상하이', '배민오더', '일본', '2019년', '1986년 2월 25일', '행정부지사', '조만식',\n",
       "       '동양화', '새천년민주당', '고려대학교', '학장', '플래시', 'IT', '대한민국', '김상혁', '자미원국',\n",
       "       '동성왕', '바르샤바', '이승만', '부산 금정구', '암스테르담', '임태훈', '주교', '루이 13세',\n",
       "       '홍원식', '하노버', '사우스이스트 디비전', '루이 2세', '권수평', '감독', '평창', '한국민주당',\n",
       "       '베이징', '단국대', '1989년', '프랑스', '공무원', '김대중', '대한민국', '프리미어리그',\n",
       "       '정상회담', '자유한국당', '메리 2세', '문재인', '홈즈', '러시아 프리미어리그', '18세기 말부터',\n",
       "       '제임스 1세', '모하마드 레자 팔라비', '문', '김종규', '고미즈노오 천황', '921년', '이기붕',\n",
       "       '배우', '가을철', '일본사회당', '1921년 12월 31일', '더불어민주당', '진도', '장수', '진나라',\n",
       "       '의원', '전교조', '일렉트로닉 아츠', '관계자', '선', '기자', '자유민주당', '최우수상', '전기차',\n",
       "       '너의 목소리가 보여', '제2차 세계 대전', '조지 W. 부시', '31번', '양나라', '레뜨떼', '노동자',\n",
       "       'FA컵', '민', '스티비 원더', '오티스 스팬', '막시밀리안 2세', 'EBS', '박재규', '프리우스',\n",
       "       '장동면', '의원', '팔리훈', 'UEFA', '대전 중구', '동맹 90/녹색당', '일본', '치매', '시민',\n",
       "       'NBA', '문재인', '라리가', '한영외고', '연구원', '대한민국', '《무한지대》', '멤버', '멤버',\n",
       "       '어머니', '1999년', '모스크바', '조선로동당', '인효문황후', '노부나가', '대표', '팬', '대표',\n",
       "       '고객', '김석준', '원성왕', '의원', '스웨덴', '교황', '상사', '허영인', '고엔유 천황',\n",
       "       '새천년민주당', '20일', '진도개', '감독', '1987년', '루이 12세', '과학자', '더불어민주당',\n",
       "       '한국민주당', '호엔촐레른', '버락 오바마', '아나운서', '한인애국단', '일', '대북지원사업자', '유산슬',\n",
       "       '송진우', '밀짚모자 해적단', 'J-U', '전국 대학생 대나무숲', 'UEFA 챔피언스리그', '지질학',\n",
       "       'LG그룹', '홍원식', 'UEFA', 'IMF 외환위기', '시민', '21세기', '국민의당',\n",
       "       '스미스-민코프스키-지겔 질량 공식', 'K3리그', '자유한국당', '지난 2016년부터', '선수', '구수왕',\n",
       "       '1921년', '라엘리안 무브먼트', 'David Jarolím', '단경왕후', '고문직', '자유한국당',\n",
       "       '친척', '조중훈', '7기', '1993년 2월 25일', '입후보자', '문재인', 'UEFA', '순흥(順興)',\n",
       "       '기독교', '1988년', '네티즌', '타율', '아르침볼도', '1918년 1월 15일', '물리학',\n",
       "       '삼성전자 부회장', '김대중', '지난 2011년', '3년', '어린이보육재단', '시장', '아부다비',\n",
       "       '한겨레', '요양', '최고의 사랑', '고대 그리스', '국민당', '한국', '코로나19', '김석준',\n",
       "       '김두봉', '광주', '레드 핫 칠리 페퍼스', '노동자', '교수', '1935년', '선수', '흑인', '미뭉',\n",
       "       '폴 아웃 보이', '대한민국', '민주공화당', '모건 창기라이', '정재학', '더불어민주당', '올해',\n",
       "       '리버풀 FC', '신학', '보건복지부', '테살리아', '이탈리아 사회당', '감염증', '1256년',\n",
       "       '바르바라', '스타 얼라이언스', '공직자', '최행언', '태영운송그룹', '공동위원장', '더불어민주당',\n",
       "       '보수당', '토익', '마닐라', '더콰이엇', '자유한국당', '청와대 영빈관', '인천', 'IT', '2호기',\n",
       "       '야구', '알라딘', '브라이언 이노', '중국 국민당', '찰스 1세', '정의당', '지난 12일', '모스크바',\n",
       "       '함경북도', '교수', '유격수', '어머니', '이재오', '신격호', '참기름', '국민의당', '참조기',\n",
       "       '징역', '2017년', '무령왕', '판사', '자유한국당', 'AFC', '자유한국당', '암',\n",
       "       '1944년 12월 16일', '교수', '하나금융지주', '대한민국', '월드컵', '기독교', '1930년',\n",
       "       '코로나19', '보르조이 스쿨', '안철수', '비례대표', '청소년', '물리학', '고구려', '21개',\n",
       "       '더불어민주당', '이해선', '11일', '코리건', '항공기', '봄비', '대우그룹 회장',\n",
       "       '1936년 ~ 1938년', '정용진', '무사시 국', '5.18민주화운동', '로만 아브라모비치', '정의당',\n",
       "       '지난 15일', '풍천(豊川)', '지청천', '학생', '문재인', '대림산업', 'F-35', '정신건강복지센터',\n",
       "       '문재인', '중국', '국민의당', '관리', '딸', '1970년대', '출연자', '유자', '중력파',\n",
       "       '2008년', '대한민국', '200', '대원방송', '문재인', '동아프리카', '유튜브', '김대중',\n",
       "       '문승현', '빌헬름 1세', '형님', '임시정부', '10일', '상사화', '1947년 10월 1일',\n",
       "       '대학일자리', '한준', '크세르크세스', '노자', '2015년', '연남생', '더불어민주당',\n",
       "       '스탬퍼드 브리지', '이건희', '테오도시우스 1세', '일본', '마리아 표도로브나', '국민의당', '강남구',\n",
       "       '센고쿠 시대', '돋움엔터테인먼트', '황권', 'kbc', '세월호 특별법', '홋카이도', '이강훈', '선발',\n",
       "       '영국', '송수건', '박근혜', '빈', '진천공장', '명창', '제2차 포에니 전쟁', '전자상거래',\n",
       "       '대한민국', '참모장', '경기도', '쿠웨이트', '시민', '남편', '13개', '알렉산드로스 4세',\n",
       "       '휘그당', '후안 페론', '자유한국당', '아바스 왕조', '유시민', '양현석', '하인리히 2세',\n",
       "       '군민의 날', '지토 천황', '평양', '시리아', '리그 1', '변산면', '2차', '민주공화당', '백화점',\n",
       "       '1680년 6월 4일', '1901년', '자원봉사자', '사장', '동아건설산업(주)', '대한민국', '대법관',\n",
       "       '睦來善', '현대자동차그룹', '일본어', '베를린', '중국 슈퍼리그', 'NBA', '종합격투기', '호족',\n",
       "       '군수', '튜더 왕가', '회장', '811년', '정성학원', '삭방', '상하이', '프랑스', '미국',\n",
       "       '바르샤바', '비류왕', '시인', '모델', '다크 나이트', '아일랜드 민족해방군', '교황', '러요시 1세',\n",
       "       '한국 전쟁', '삼척시', '2019년', '동생', '헌덕왕', '연구원', '로켓',\n",
       "       'Layvin Kurzawa', '조양호', '사망자', '마닐라', '올해', '후지코 F. 후지오',\n",
       "       '센트럴 리그', '애틀랜타', '1996년', '시민', '1999년 9월', '허영인', '남편', '2012',\n",
       "       '1973년', '부구욱', '시장', '캐나다', '불닭맛', '8월 16일', '김대중', '부부', '유시민',\n",
       "       '43명', '대변인', '북한', '아들', '1990년', '장인', '스타', '10개', '선수', '콘라디',\n",
       "       '관계자', '해남', '인민무력성', '노회찬', '곽인희', '국가정치부', '의장', '유럽', '일본',\n",
       "       '세리에 A', '아나운서', '이란', '아들 윤후', '2012년 7월 26일', '운영자', '아보프랜즈',\n",
       "       '1986년', '카이로', '의장', '1742년경 - 1807년 11월 24일', '백산', '나은', '보수당',\n",
       "       '조선인민군', '13개', '저스티스 리그', '배우', '2 분데스리가', '정의당', '샤를 6세', '차장',\n",
       "       '자유한국당', '일제 강점기', '정의당', '2019', '덴마크', '북부여', '올해', 'UEFA',\n",
       "       '이회창', '박근혜', '위원', '지난 2016년', '차관', '교수', '변호사', '소장', '대한민국',\n",
       "       '부하', '용자리', '사랑의 달팽이', '일본', '수학자', '케이', '카산드로스', '자유한국당', '고령군',\n",
       "       '문재인', '프로듀스', '정유연', '지난해', '세계문화유산', '정의당', '플리트우드 맥', '자유한국당',\n",
       "       '구소련', '전년동월', '의빈 성씨', '코로나19', '스위스 슈퍼리그', '박보검', '국제연합식량농업기구',\n",
       "       '오토 2세', '부다페스트', '형사', '관광객', '미국', '대림산업', '레이튼 교수와 이상한 마을',\n",
       "       '국공 내전', '박정희', '비치 보이스', '슈퍼엠', 'PD', 'FIFA', 'TBS', '러시아 프리미어리그',\n",
       "       '경덕왕', '곽사', '대법관', 'Cinque Terre', '조광래', '아프리카', '대한민국', '50%',\n",
       "       '4개', '도지사', '하나', '가마쿠라 막부', '비무장지대', '바오로 6세', '유인태', '자유한국당',\n",
       "       '바른정당', '광양', '박재규', '2017년', '1회', '18년', '왜군', '부산', '퀸덤',\n",
       "       '2005년 4월 2일', '한국철도', '최재형', '달빛내륙철도', '경찰', '미국 육군 하사',\n",
       "       '블라디미르 푸틴', '사반왕', '페터르 4세', '자동차', '대한민국', '김원봉', '6기', '영화감독',\n",
       "       '천황', '에리카', '18일', '의원', '소장', '테오도시우스 2세', '두 사람', '벨기에', '조치원읍',\n",
       "       '프리메이라리가', '아프리카TV', '윤시윤', '아시아', '민주당', '알렉스 튜(Alex Tew)',\n",
       "       '모스크바', '전주', '1순위', 'J-U', '지인', '대한민국', '부안군', '방글라데시', '아들',\n",
       "       '재학생', '코파 델 레이', '주식회사', '신상철', '2군', '보수당', '물리학', '광산구',\n",
       "       '대한민국배구협회', '노동당', '통합진보당', '경무대', '하쿠센샤', '소총',\n",
       "       'Domino’s 신나는 피자교실', '리처드 2세', '이극돈', '기타', '하노버 왕가', '전라남도',\n",
       "       '첫 번째', '건문제', '통일교', '신도', '리처드 3세', '유튜브', '광주광역', '캐나다',\n",
       "       '오토 2세', '민주공화당', '아들', '캡틴 마블', '부쿠레슈티', '바트당', '유일한', '우리은행',\n",
       "       '1998', '대한민국', '사이메이 천황', '충숙왕 13', '국민의당', '전남', '금메달', '민주국민당',\n",
       "       '미국', '조선로동당', '자유한국당', '아내', '프랑스', '영등포구', '물리학', '김현승',\n",
       "       '산드로 페르티니', '이용섭', '1930년', '호남', '자유한국당', '순천시', '황제군', '램시마 SC',\n",
       "       '수천 명', '북한', '테리사 메이', '빌햘름', '1999년 9월', '제임스 2세', '지지자', '김영삼',\n",
       "       '진지왕', '1974년', '고바야시 다케시', '요크 가', '빛과 소금', '151', '헝가리', '말레이시아',\n",
       "       '이소응', '낙양', '재즈힙합', '해주 정씨', '한성숙', '선제골', '마포구', '김장', '박정호',\n",
       "       '세관장', '민중당', '아들', '시메온 이바노비치', '중도좌파', '하계', '9월 20일', 'AFC',\n",
       "       '문재인', '조선인민군', '멤버', '서울', '고객', '국민', '유교', '2016년', '암스테르담',\n",
       "       '스웨덴', '오리온자리', '야마토', '관계자', '아폴로 11호', '일렉트로닉', '1998년', '내년',\n",
       "       '정몽구', '1841년', '2003년', '힙', '화순옹주', '시이 켄수', '왕', '올해', '1949',\n",
       "       '경상남도', '오동석', '서경배', '권영섭', '아소카', '지난 12일', '2009', '칼리프', '대통령',\n",
       "       'JTV', '莊公', 'Grasshopper Club Zürich', '신민당', '매니저', '서울특별시',\n",
       "       '응급환자', '청장', 'Enrique Cueto', '인민사원', '이범석', '류성룡',\n",
       "       '코로나바이러스감염증-19', '마케팅 담당자', '회장', '1961년 1월 21일', '회원', '임용택',\n",
       "       '민주당', '1939년 3월 14일', '이덕연', '원내대표', '국방부', '한나라당', '주식회사',\n",
       "       '전해드립니다', 'TBC', '얄타 회담', '현정은', '교육생', 'MBC', '장관', '1987년', '선생',\n",
       "       '7월', '대한민국', '칼리만 아센 1세', '의원', '도시재생사업', '대변인', '신부', '크로아티아',\n",
       "       'MBC', '경성도서관', '상사화', '1위', '충북', '1958년', '독일', '도라에몽', 'UEFA',\n",
       "       '한성숙', '니콜라스 마두로', '2020학년도', '대한민국', '코로나19', '최호진', '더불어민주당',\n",
       "       'IBM 취리히 연구소', '8명', 'JIBS', '이날', '국민의당', '신천지', '행정안전부',\n",
       "       '나사우의 소피아', '후보', '119', '에두아르트', '자유한국당', '태평양 전쟁', '타케우치 나오코',\n",
       "       '대장', '라리가', '중전차', '공화당', '홍승활', '2011', '박해곤', '야구', '13개',\n",
       "       '동방신기', '2013년', '장병완', '시즈쿠', 'SK이노베이션', '리처드 3세', '멤버', '우리은행',\n",
       "       '이만희', '리처드 닉슨', '한국은행', '로마누스', '기니민주당', '경종', '한국은행 총재', '환자',\n",
       "       '가시고기', '슈퍼스타K 3', 'FIFA', '이자연', '프랑스', '박정환', '이순심', '마코',\n",
       "       '자유민주당'], dtype=object)"
      ]
     },
     "execution_count": 106,
     "metadata": {},
     "output_type": "execute_result"
    }
   ],
   "source": [
    "df = pd.read_csv('input/data/test/test.tsv', sep='\\t', names=[1,2,3,4,5,6,7,8,'label'])\n",
    "df[6].values"
   ]
  },
  {
   "cell_type": "code",
   "execution_count": 18,
   "id": "1500ebd3-6ccd-4532-9b6d-2d02bf7f201c",
   "metadata": {},
   "outputs": [
    {
     "name": "stdout",
     "output_type": "stream",
     "text": [
      "Cloning into 'kor-re-gold'...\n",
      "remote: Enumerating objects: 51, done.\u001b[K\n",
      "remote: Total 51 (delta 0), reused 0 (delta 0), pack-reused 51\u001b[K\n",
      "Unpacking objects: 100% (51/51), done.\n"
     ]
    }
   ],
   "source": [
    "!git clone https://github.com/machinereading/kor-re-gold.git"
   ]
  },
  {
   "cell_type": "code",
   "execution_count": 23,
   "id": "da64fe3b-655f-47f6-9fe1-3ecb77c58bec",
   "metadata": {
    "tags": []
   },
   "outputs": [
    {
     "data": {
      "text/html": [
       "<div>\n",
       "<style scoped>\n",
       "    .dataframe tbody tr th:only-of-type {\n",
       "        vertical-align: middle;\n",
       "    }\n",
       "\n",
       "    .dataframe tbody tr th {\n",
       "        vertical-align: top;\n",
       "    }\n",
       "\n",
       "    .dataframe thead th {\n",
       "        text-align: right;\n",
       "    }\n",
       "</style>\n",
       "<table border=\"1\" class=\"dataframe\">\n",
       "  <thead>\n",
       "    <tr style=\"text-align: right;\">\n",
       "      <th></th>\n",
       "      <th>1</th>\n",
       "      <th>2</th>\n",
       "      <th>3</th>\n",
       "      <th>4</th>\n",
       "      <th>5</th>\n",
       "      <th>6</th>\n",
       "    </tr>\n",
       "  </thead>\n",
       "  <tbody>\n",
       "    <tr>\n",
       "      <th>0</th>\n",
       "      <td>GS파워</td>\n",
       "      <td>경기도</td>\n",
       "      <td>location</td>\n",
       "      <td>안양열병합발전소(安養熱倂合發電所)는  [[ _obj_ ]]   [[ 안양시 ]]  ...</td>\n",
       "      <td>location379</td>\n",
       "      <td>no</td>\n",
       "    </tr>\n",
       "    <tr>\n",
       "      <th>1</th>\n",
       "      <td>트로이아_전쟁</td>\n",
       "      <td>트로이아</td>\n",
       "      <td>place</td>\n",
       "      <td>헥토르()는  [[ 그리스_신화 ]] 의  [[ _obj_ ]]  왕자로,  [[ ...</td>\n",
       "      <td>place368</td>\n",
       "      <td>no</td>\n",
       "    </tr>\n",
       "    <tr>\n",
       "      <th>2</th>\n",
       "      <td>도카이도_본선</td>\n",
       "      <td>고베_역_(효고_현)</td>\n",
       "      <td>routeEnd</td>\n",
       "      <td>[[ 도쿄_역 ]] 과  [[ _obj_ ]] 을 연결하는  [[ _sbj_ ]...</td>\n",
       "      <td>routeEnd376</td>\n",
       "      <td>no</td>\n",
       "    </tr>\n",
       "    <tr>\n",
       "      <th>3</th>\n",
       "      <td>나르세스</td>\n",
       "      <td>타기나이의_전투</td>\n",
       "      <td>battle</td>\n",
       "      <td>[[ 유스티니아누스_1세 ]] 는 환관  [[ _sbj_ ]] 에게 명해 토틸라...</td>\n",
       "      <td>battle248</td>\n",
       "      <td>yes</td>\n",
       "    </tr>\n",
       "    <tr>\n",
       "      <th>4</th>\n",
       "      <td>데얀_사비체비치</td>\n",
       "      <td>FK_츠르베나_즈베즈다</td>\n",
       "      <td>club</td>\n",
       "      <td>홈 경기에서 1-1로 비기고 원정 경기를 하러 간  [[ AC_밀란 ]] 은 50...</td>\n",
       "      <td>club258</td>\n",
       "      <td>yes</td>\n",
       "    </tr>\n",
       "    <tr>\n",
       "      <th>...</th>\n",
       "      <td>...</td>\n",
       "      <td>...</td>\n",
       "      <td>...</td>\n",
       "      <td>...</td>\n",
       "      <td>...</td>\n",
       "      <td>...</td>\n",
       "    </tr>\n",
       "    <tr>\n",
       "      <th>129</th>\n",
       "      <td>돈_강</td>\n",
       "      <td>툴라_주</td>\n",
       "      <td>region</td>\n",
       "      <td>노보모스콥스크 (; 예전 이름은 보브리키 (Бобрики,  [[ 1934년 ]] ...</td>\n",
       "      <td>region51</td>\n",
       "      <td>no</td>\n",
       "    </tr>\n",
       "    <tr>\n",
       "      <th>130</th>\n",
       "      <td>유동훈</td>\n",
       "      <td>KIA_타이거즈</td>\n",
       "      <td>team</td>\n",
       "      <td>8월에는 리그 최다 홈런을 때려 내며 괴력을 보였으며,  [[ 8월_20일 ]] ...</td>\n",
       "      <td>team46</td>\n",
       "      <td>yes</td>\n",
       "    </tr>\n",
       "    <tr>\n",
       "      <th>131</th>\n",
       "      <td>이시카와_마사노리</td>\n",
       "      <td>도쿄_야쿠르트_스왈로스</td>\n",
       "      <td>team</td>\n",
       "      <td>첫 안타 : 2009년 6월 21일, 대  [[ _obj_ ]]  4차전( [[ 메...</td>\n",
       "      <td>team47</td>\n",
       "      <td>yes</td>\n",
       "    </tr>\n",
       "    <tr>\n",
       "      <th>132</th>\n",
       "      <td>후쿠하라_시노부</td>\n",
       "      <td>한신_타이거스</td>\n",
       "      <td>team</td>\n",
       "      <td>첫 도루 : 2005년 5월 17일, 대  [[ _obj_ ]]  1차전(니시쿄고쿠...</td>\n",
       "      <td>team56</td>\n",
       "      <td>no</td>\n",
       "    </tr>\n",
       "    <tr>\n",
       "      <th>133</th>\n",
       "      <td>시티즌스_뱅크_파크</td>\n",
       "      <td>필라델피아_필리스</td>\n",
       "      <td>tenant</td>\n",
       "      <td>신축되는 대구광역시의 팔각 다이아몬드형 야구장은 그 형태만으로도 차별성이 있으며, ...</td>\n",
       "      <td>tenant58</td>\n",
       "      <td>yes</td>\n",
       "    </tr>\n",
       "  </tbody>\n",
       "</table>\n",
       "<p>134 rows × 6 columns</p>\n",
       "</div>"
      ],
      "text/plain": [
       "              1             2         3  \\\n",
       "0          GS파워           경기도  location   \n",
       "1       트로이아_전쟁          트로이아     place   \n",
       "2       도카이도_본선   고베_역_(효고_현)  routeEnd   \n",
       "3          나르세스      타기나이의_전투    battle   \n",
       "4      데얀_사비체비치  FK_츠르베나_즈베즈다      club   \n",
       "..          ...           ...       ...   \n",
       "129         돈_강          툴라_주    region   \n",
       "130         유동훈      KIA_타이거즈      team   \n",
       "131   이시카와_마사노리  도쿄_야쿠르트_스왈로스      team   \n",
       "132    후쿠하라_시노부       한신_타이거스      team   \n",
       "133  시티즌스_뱅크_파크     필라델피아_필리스    tenant   \n",
       "\n",
       "                                                     4            5    6  \n",
       "0    안양열병합발전소(安養熱倂合發電所)는  [[ _obj_ ]]   [[ 안양시 ]]  ...  location379   no  \n",
       "1    헥토르()는  [[ 그리스_신화 ]] 의  [[ _obj_ ]]  왕자로,  [[ ...     place368   no  \n",
       "2      [[ 도쿄_역 ]] 과  [[ _obj_ ]] 을 연결하는  [[ _sbj_ ]...  routeEnd376   no  \n",
       "3      [[ 유스티니아누스_1세 ]] 는 환관  [[ _sbj_ ]] 에게 명해 토틸라...    battle248  yes  \n",
       "4     홈 경기에서 1-1로 비기고 원정 경기를 하러 간  [[ AC_밀란 ]] 은 50...      club258  yes  \n",
       "..                                                 ...          ...  ...  \n",
       "129  노보모스콥스크 (; 예전 이름은 보브리키 (Бобрики,  [[ 1934년 ]] ...     region51   no  \n",
       "130   8월에는 리그 최다 홈런을 때려 내며 괴력을 보였으며,  [[ 8월_20일 ]] ...       team46  yes  \n",
       "131  첫 안타 : 2009년 6월 21일, 대  [[ _obj_ ]]  4차전( [[ 메...       team47  yes  \n",
       "132  첫 도루 : 2005년 5월 17일, 대  [[ _obj_ ]]  1차전(니시쿄고쿠...       team56   no  \n",
       "133  신축되는 대구광역시의 팔각 다이아몬드형 야구장은 그 형태만으로도 차별성이 있으며, ...     tenant58  yes  \n",
       "\n",
       "[134 rows x 6 columns]"
      ]
     },
     "execution_count": 23,
     "metadata": {},
     "output_type": "execute_result"
    }
   ],
   "source": [
    "df_gold = pd.read_csv('./kor-re-gold/gold-standard-v1/conflict2agreement_content.txt','\\t',names=[1,2,3,4,5,6])\n",
    "df_gold"
   ]
  },
  {
   "cell_type": "code",
   "execution_count": 135,
   "id": "743cb6fe-cb28-49f5-b942-d99fb2752f16",
   "metadata": {
    "collapsed": true,
    "jupyter": {
     "outputs_hidden": true
    },
    "tags": []
   },
   "outputs": [
    {
     "ename": "KeyError",
     "evalue": "'항목 주제의 군사 분쟁의 장소'",
     "output_type": "error",
     "traceback": [
      "\u001b[0;31m---------------------------------------------------------------------------\u001b[0m",
      "\u001b[0;31mKeyError\u001b[0m                                  Traceback (most recent call last)",
      "\u001b[0;32m<ipython-input-135-291b7130c63a>\u001b[0m in \u001b[0;36m<module>\u001b[0;34m\u001b[0m\n\u001b[1;32m      1\u001b[0m \u001b[0mdf\u001b[0m \u001b[0;34m=\u001b[0m \u001b[0mpd\u001b[0m\u001b[0;34m.\u001b[0m\u001b[0mread_csv\u001b[0m\u001b[0;34m(\u001b[0m\u001b[0;34m'./kor-re-gold/relation-info/relation-definition.txt'\u001b[0m\u001b[0;34m,\u001b[0m \u001b[0;34m'\\t'\u001b[0m\u001b[0;34m,\u001b[0m\u001b[0mnames\u001b[0m\u001b[0;34m=\u001b[0m\u001b[0;34m[\u001b[0m\u001b[0;34m'eng'\u001b[0m\u001b[0;34m,\u001b[0m\u001b[0;34m'kor'\u001b[0m\u001b[0;34m]\u001b[0m\u001b[0;34m)\u001b[0m\u001b[0;34m\u001b[0m\u001b[0;34m\u001b[0m\u001b[0m\n\u001b[1;32m      2\u001b[0m \u001b[0meng2kor\u001b[0m \u001b[0;34m=\u001b[0m \u001b[0;34m{\u001b[0m\u001b[0mk\u001b[0m\u001b[0;34m:\u001b[0m\u001b[0mv\u001b[0m \u001b[0;32mfor\u001b[0m \u001b[0mk\u001b[0m\u001b[0;34m,\u001b[0m\u001b[0mv\u001b[0m \u001b[0;32min\u001b[0m \u001b[0mzip\u001b[0m\u001b[0;34m(\u001b[0m\u001b[0mdf\u001b[0m\u001b[0;34m.\u001b[0m\u001b[0meng\u001b[0m\u001b[0;34m.\u001b[0m\u001b[0mvalues\u001b[0m\u001b[0;34m,\u001b[0m\u001b[0mdf\u001b[0m\u001b[0;34m.\u001b[0m\u001b[0mkor\u001b[0m\u001b[0;34m.\u001b[0m\u001b[0mvalues\u001b[0m\u001b[0;34m)\u001b[0m\u001b[0;34m}\u001b[0m\u001b[0;34m\u001b[0m\u001b[0;34m\u001b[0m\u001b[0m\n\u001b[0;32m----> 3\u001b[0;31m \u001b[0mdf_gold\u001b[0m\u001b[0;34m.\u001b[0m\u001b[0mlocation\u001b[0m \u001b[0;34m=\u001b[0m \u001b[0;34m[\u001b[0m\u001b[0meng2kor\u001b[0m\u001b[0;34m[\u001b[0m\u001b[0mele\u001b[0m\u001b[0;34m]\u001b[0m \u001b[0;32mfor\u001b[0m \u001b[0mele\u001b[0m \u001b[0;32min\u001b[0m \u001b[0mdf_gold\u001b[0m\u001b[0;34m.\u001b[0m\u001b[0mlocation\u001b[0m\u001b[0;34m]\u001b[0m\u001b[0;34m\u001b[0m\u001b[0;34m\u001b[0m\u001b[0m\n\u001b[0m\u001b[1;32m      4\u001b[0m \u001b[0mdf_gold\u001b[0m\u001b[0;34m\u001b[0m\u001b[0;34m\u001b[0m\u001b[0m\n",
      "\u001b[0;32m<ipython-input-135-291b7130c63a>\u001b[0m in \u001b[0;36m<listcomp>\u001b[0;34m(.0)\u001b[0m\n\u001b[1;32m      1\u001b[0m \u001b[0mdf\u001b[0m \u001b[0;34m=\u001b[0m \u001b[0mpd\u001b[0m\u001b[0;34m.\u001b[0m\u001b[0mread_csv\u001b[0m\u001b[0;34m(\u001b[0m\u001b[0;34m'./kor-re-gold/relation-info/relation-definition.txt'\u001b[0m\u001b[0;34m,\u001b[0m \u001b[0;34m'\\t'\u001b[0m\u001b[0;34m,\u001b[0m\u001b[0mnames\u001b[0m\u001b[0;34m=\u001b[0m\u001b[0;34m[\u001b[0m\u001b[0;34m'eng'\u001b[0m\u001b[0;34m,\u001b[0m\u001b[0;34m'kor'\u001b[0m\u001b[0;34m]\u001b[0m\u001b[0;34m)\u001b[0m\u001b[0;34m\u001b[0m\u001b[0;34m\u001b[0m\u001b[0m\n\u001b[1;32m      2\u001b[0m \u001b[0meng2kor\u001b[0m \u001b[0;34m=\u001b[0m \u001b[0;34m{\u001b[0m\u001b[0mk\u001b[0m\u001b[0;34m:\u001b[0m\u001b[0mv\u001b[0m \u001b[0;32mfor\u001b[0m \u001b[0mk\u001b[0m\u001b[0;34m,\u001b[0m\u001b[0mv\u001b[0m \u001b[0;32min\u001b[0m \u001b[0mzip\u001b[0m\u001b[0;34m(\u001b[0m\u001b[0mdf\u001b[0m\u001b[0;34m.\u001b[0m\u001b[0meng\u001b[0m\u001b[0;34m.\u001b[0m\u001b[0mvalues\u001b[0m\u001b[0;34m,\u001b[0m\u001b[0mdf\u001b[0m\u001b[0;34m.\u001b[0m\u001b[0mkor\u001b[0m\u001b[0;34m.\u001b[0m\u001b[0mvalues\u001b[0m\u001b[0;34m)\u001b[0m\u001b[0;34m}\u001b[0m\u001b[0;34m\u001b[0m\u001b[0;34m\u001b[0m\u001b[0m\n\u001b[0;32m----> 3\u001b[0;31m \u001b[0mdf_gold\u001b[0m\u001b[0;34m.\u001b[0m\u001b[0mlocation\u001b[0m \u001b[0;34m=\u001b[0m \u001b[0;34m[\u001b[0m\u001b[0meng2kor\u001b[0m\u001b[0;34m[\u001b[0m\u001b[0mele\u001b[0m\u001b[0;34m]\u001b[0m \u001b[0;32mfor\u001b[0m \u001b[0mele\u001b[0m \u001b[0;32min\u001b[0m \u001b[0mdf_gold\u001b[0m\u001b[0;34m.\u001b[0m\u001b[0mlocation\u001b[0m\u001b[0;34m]\u001b[0m\u001b[0;34m\u001b[0m\u001b[0;34m\u001b[0m\u001b[0m\n\u001b[0m\u001b[1;32m      4\u001b[0m \u001b[0mdf_gold\u001b[0m\u001b[0;34m\u001b[0m\u001b[0;34m\u001b[0m\u001b[0m\n",
      "\u001b[0;31mKeyError\u001b[0m: '항목 주제의 군사 분쟁의 장소'"
     ]
    }
   ],
   "source": [
    "df = pd.read_csv('./kor-re-gold/relation-info/relation-definition.txt', '\\t',names=['eng','kor'])\n",
    "eng2kor = {k:v for k,v in zip(df.eng.values,df.kor.values)}\n",
    "df_gold.location = [eng2kor[ele] for ele in df_gold.location]\n"
   ]
  },
  {
   "cell_type": "code",
   "execution_count": 10,
   "id": "2d46ee13-5b28-4c87-a273-345e5d977e26",
   "metadata": {},
   "outputs": [
    {
     "ename": "NameError",
     "evalue": "name 'pd' is not defined",
     "output_type": "error",
     "traceback": [
      "\u001b[0;31m---------------------------------------------------------------------------\u001b[0m",
      "\u001b[0;31mNameError\u001b[0m                                 Traceback (most recent call last)",
      "\u001b[0;32m<ipython-input-10-b4e19b41e2c1>\u001b[0m in \u001b[0;36m<module>\u001b[0;34m\u001b[0m\n\u001b[0;32m----> 1\u001b[0;31m \u001b[0mdf_silver\u001b[0m \u001b[0;34m=\u001b[0m \u001b[0mpd\u001b[0m\u001b[0;34m.\u001b[0m\u001b[0mread_csv\u001b[0m\u001b[0;34m(\u001b[0m\u001b[0;34m'./kor-re-gold/silver-standard/silver-standard.txt'\u001b[0m\u001b[0;34m,\u001b[0m\u001b[0;34m'\\t'\u001b[0m\u001b[0;34m,\u001b[0m\u001b[0mnames\u001b[0m\u001b[0;34m=\u001b[0m\u001b[0;34m[\u001b[0m\u001b[0;36m1\u001b[0m\u001b[0;34m,\u001b[0m\u001b[0;36m2\u001b[0m\u001b[0;34m,\u001b[0m\u001b[0;36m3\u001b[0m\u001b[0;34m,\u001b[0m\u001b[0;36m4\u001b[0m\u001b[0;34m,\u001b[0m\u001b[0;36m5\u001b[0m\u001b[0;34m]\u001b[0m\u001b[0;34m)\u001b[0m\u001b[0;34m\u001b[0m\u001b[0;34m\u001b[0m\u001b[0m\n\u001b[0m\u001b[1;32m      2\u001b[0m \u001b[0mdf_silver\u001b[0m\u001b[0;34m.\u001b[0m\u001b[0mloc\u001b[0m\u001b[0;34m[\u001b[0m\u001b[0;34m(\u001b[0m\u001b[0mdf_silver\u001b[0m\u001b[0;34m[\u001b[0m\u001b[0;36m3\u001b[0m\u001b[0;34m]\u001b[0m\u001b[0;34m==\u001b[0m\u001b[0;34m'deathPlace'\u001b[0m\u001b[0;34m)\u001b[0m\u001b[0;34m,\u001b[0m\u001b[0;34m:\u001b[0m\u001b[0;34m]\u001b[0m\u001b[0;34m\u001b[0m\u001b[0;34m\u001b[0m\u001b[0m\n\u001b[1;32m      3\u001b[0m \u001b[0;32mfor\u001b[0m \u001b[0my\u001b[0m\u001b[0;34m,\u001b[0m \u001b[0ms\u001b[0m \u001b[0;32min\u001b[0m \u001b[0mzip\u001b[0m\u001b[0;34m(\u001b[0m\u001b[0mdf_silver\u001b[0m\u001b[0;34m[\u001b[0m\u001b[0;36m3\u001b[0m\u001b[0;34m]\u001b[0m\u001b[0;34m.\u001b[0m\u001b[0mvalues\u001b[0m\u001b[0;34m,\u001b[0m\u001b[0mdf_silver\u001b[0m\u001b[0;34m[\u001b[0m\u001b[0;36m4\u001b[0m\u001b[0;34m]\u001b[0m\u001b[0;34m.\u001b[0m\u001b[0mvalues\u001b[0m\u001b[0;34m)\u001b[0m\u001b[0;34m:\u001b[0m\u001b[0;34m\u001b[0m\u001b[0;34m\u001b[0m\u001b[0m\n\u001b[1;32m      4\u001b[0m     \u001b[0;32mif\u001b[0m \u001b[0;34m'태어'\u001b[0m \u001b[0;32min\u001b[0m \u001b[0ms\u001b[0m\u001b[0;34m:\u001b[0m\u001b[0;34m\u001b[0m\u001b[0;34m\u001b[0m\u001b[0m\n\u001b[1;32m      5\u001b[0m         \u001b[0mprint\u001b[0m\u001b[0;34m(\u001b[0m\u001b[0;34mf'분류 : {y},  {s}'\u001b[0m\u001b[0;34m)\u001b[0m\u001b[0;34m\u001b[0m\u001b[0;34m\u001b[0m\u001b[0m\n",
      "\u001b[0;31mNameError\u001b[0m: name 'pd' is not defined"
     ]
    }
   ],
   "source": [
    "df_silver = pd.read_csv('./kor-re-gold/silver-standard/silver-standard.txt','\\t',names=[1,2,3,4,5])\n",
    "df_silver.loc[(df_silver[3]=='deathPlace'),:]\n",
    "for y, s in zip(df_silver[3].values,df_silver[4].values):\n",
    "    if '태어' in s:\n",
    "        print(f'분류 : {y},  {s}')\n",
    "df_silver.head()"
   ]
  },
  {
   "cell_type": "code",
   "execution_count": 122,
   "id": "ec7bf65d-547b-4d3a-b373-99bbecc13f73",
   "metadata": {},
   "outputs": [
    {
     "name": "stdout",
     "output_type": "stream",
     "text": [
      "Untitled.ipynb\tchatbot  code  input  kor-re-gold\n"
     ]
    }
   ],
   "source": [
    "!ls"
   ]
  },
  {
   "cell_type": "code",
   "execution_count": 15,
   "id": "bb005ee5-f1f9-4f48-9613-f3bd8e721318",
   "metadata": {},
   "outputs": [
    {
     "name": "stdout",
     "output_type": "stream",
     "text": [
      "/bin/sh: 1: xcode-select: not found\n"
     ]
    }
   ],
   "source": [
    "!xcode-select --install marisa-trie"
   ]
  },
  {
   "cell_type": "code",
   "execution_count": 1,
   "id": "2ecffb3a-9cb7-4d28-bc5b-665019361f68",
   "metadata": {
    "collapsed": true,
    "jupyter": {
     "outputs_hidden": true
    },
    "tags": []
   },
   "outputs": [
    {
     "name": "stdout",
     "output_type": "stream",
     "text": [
      "Collecting pororo\n",
      "  Using cached pororo-0.4.2-py3-none-any.whl (256 kB)\n",
      "Requirement already satisfied: wget in /opt/conda/lib/python3.7/site-packages (from pororo) (3.2)\n",
      "Requirement already satisfied: torchvision==0.7.0 in /opt/conda/lib/python3.7/site-packages (from pororo) (0.7.0)\n",
      "Requirement already satisfied: torch==1.6.0 in /opt/conda/lib/python3.7/site-packages (from pororo) (1.6.0)\n",
      "Collecting marisa-trie\n",
      "  Using cached marisa-trie-0.7.5.tar.gz (270 kB)\n",
      "Requirement already satisfied: fairseq>=0.10.2 in /opt/conda/lib/python3.7/site-packages (from pororo) (0.10.2)\n",
      "Requirement already satisfied: kss in /opt/conda/lib/python3.7/site-packages (from pororo) (2.5.0)\n",
      "Requirement already satisfied: g2p-en in /opt/conda/lib/python3.7/site-packages (from pororo) (2.1.0)\n",
      "Requirement already satisfied: lxml in /opt/conda/lib/python3.7/site-packages (from pororo) (4.6.3)\n",
      "Requirement already satisfied: sentence-transformers>=0.4.1.2 in /opt/conda/lib/python3.7/site-packages (from pororo) (1.0.4)\n",
      "Requirement already satisfied: joblib in /opt/conda/lib/python3.7/site-packages (from pororo) (1.0.1)\n",
      "Requirement already satisfied: whoosh in /opt/conda/lib/python3.7/site-packages (from pororo) (2.7.4)\n",
      "Requirement already satisfied: pillow>=4.1.1 in /opt/conda/lib/python3.7/site-packages (from pororo) (7.2.0)\n",
      "Requirement already satisfied: word2word in /opt/conda/lib/python3.7/site-packages (from pororo) (1.0.0)\n",
      "Requirement already satisfied: transformers>=4.0.0 in /opt/conda/lib/python3.7/site-packages (from pororo) (4.5.1)\n",
      "Requirement already satisfied: nltk>=3.5 in /opt/conda/lib/python3.7/site-packages (from pororo) (3.6.1)\n",
      "Requirement already satisfied: numpy in /opt/conda/lib/python3.7/site-packages (from torchvision==0.7.0->pororo) (1.18.5)\n",
      "Requirement already satisfied: future in /opt/conda/lib/python3.7/site-packages (from torch==1.6.0->pororo) (0.18.2)\n",
      "Requirement already satisfied: sacrebleu>=1.4.12 in /opt/conda/lib/python3.7/site-packages (from fairseq>=0.10.2->pororo) (1.5.1)\n",
      "Requirement already satisfied: cython in /opt/conda/lib/python3.7/site-packages (from fairseq>=0.10.2->pororo) (0.29.23)\n",
      "Requirement already satisfied: tqdm in /opt/conda/lib/python3.7/site-packages (from fairseq>=0.10.2->pororo) (4.46.0)\n",
      "Requirement already satisfied: hydra-core in /opt/conda/lib/python3.7/site-packages (from fairseq>=0.10.2->pororo) (1.0.6)\n",
      "Requirement already satisfied: cffi in /opt/conda/lib/python3.7/site-packages (from fairseq>=0.10.2->pororo) (1.14.0)\n",
      "Requirement already satisfied: regex in /opt/conda/lib/python3.7/site-packages (from fairseq>=0.10.2->pororo) (2021.4.4)\n",
      "Requirement already satisfied: dataclasses in /opt/conda/lib/python3.7/site-packages (from fairseq>=0.10.2->pororo) (0.6)\n",
      "Requirement already satisfied: inflect>=0.3.1 in /opt/conda/lib/python3.7/site-packages (from g2p-en->pororo) (5.3.0)\n",
      "Requirement already satisfied: distance>=0.1.3 in /opt/conda/lib/python3.7/site-packages (from g2p-en->pororo) (0.1.3)\n",
      "Requirement already satisfied: sentencepiece in /opt/conda/lib/python3.7/site-packages (from sentence-transformers>=0.4.1.2->pororo) (0.1.95)\n",
      "Requirement already satisfied: scikit-learn in /opt/conda/lib/python3.7/site-packages (from sentence-transformers>=0.4.1.2->pororo) (0.24.1)\n",
      "Requirement already satisfied: scipy in /opt/conda/lib/python3.7/site-packages (from sentence-transformers>=0.4.1.2->pororo) (1.6.2)\n",
      "Requirement already satisfied: requests in /opt/conda/lib/python3.7/site-packages (from word2word->pororo) (2.23.0)\n",
      "Requirement already satisfied: tokenizers<0.11,>=0.10.1 in /opt/conda/lib/python3.7/site-packages (from transformers>=4.0.0->pororo) (0.10.2)\n",
      "Requirement already satisfied: importlib-metadata; python_version < \"3.8\" in /opt/conda/lib/python3.7/site-packages (from transformers>=4.0.0->pororo) (3.10.0)\n",
      "Requirement already satisfied: filelock in /opt/conda/lib/python3.7/site-packages (from transformers>=4.0.0->pororo) (3.0.12)\n",
      "Requirement already satisfied: sacremoses in /opt/conda/lib/python3.7/site-packages (from transformers>=4.0.0->pororo) (0.0.44)\n",
      "Requirement already satisfied: packaging in /opt/conda/lib/python3.7/site-packages (from transformers>=4.0.0->pororo) (20.9)\n",
      "Requirement already satisfied: click in /opt/conda/lib/python3.7/site-packages (from nltk>=3.5->pororo) (7.1.2)\n",
      "Requirement already satisfied: portalocker==2.0.0 in /opt/conda/lib/python3.7/site-packages (from sacrebleu>=1.4.12->fairseq>=0.10.2->pororo) (2.0.0)\n",
      "Requirement already satisfied: omegaconf<2.1,>=2.0.5 in /opt/conda/lib/python3.7/site-packages (from hydra-core->fairseq>=0.10.2->pororo) (2.0.6)\n",
      "Requirement already satisfied: importlib-resources; python_version < \"3.9\" in /opt/conda/lib/python3.7/site-packages (from hydra-core->fairseq>=0.10.2->pororo) (5.1.2)\n",
      "Requirement already satisfied: antlr4-python3-runtime==4.8 in /opt/conda/lib/python3.7/site-packages (from hydra-core->fairseq>=0.10.2->pororo) (4.8)\n",
      "Requirement already satisfied: pycparser in /opt/conda/lib/python3.7/site-packages (from cffi->fairseq>=0.10.2->pororo) (2.20)\n",
      "Requirement already satisfied: threadpoolctl>=2.0.0 in /opt/conda/lib/python3.7/site-packages (from scikit-learn->sentence-transformers>=0.4.1.2->pororo) (2.1.0)\n",
      "Requirement already satisfied: urllib3!=1.25.0,!=1.25.1,<1.26,>=1.21.1 in /opt/conda/lib/python3.7/site-packages (from requests->word2word->pororo) (1.25.8)\n",
      "Requirement already satisfied: idna<3,>=2.5 in /opt/conda/lib/python3.7/site-packages (from requests->word2word->pororo) (2.9)\n",
      "Requirement already satisfied: certifi>=2017.4.17 in /opt/conda/lib/python3.7/site-packages (from requests->word2word->pororo) (2020.6.20)\n",
      "Requirement already satisfied: chardet<4,>=3.0.2 in /opt/conda/lib/python3.7/site-packages (from requests->word2word->pororo) (3.0.4)\n",
      "Requirement already satisfied: zipp>=0.5 in /opt/conda/lib/python3.7/site-packages (from importlib-metadata; python_version < \"3.8\"->transformers>=4.0.0->pororo) (3.4.1)\n",
      "Requirement already satisfied: typing-extensions>=3.6.4; python_version < \"3.8\" in /opt/conda/lib/python3.7/site-packages (from importlib-metadata; python_version < \"3.8\"->transformers>=4.0.0->pororo) (3.7.4.3)\n",
      "Requirement already satisfied: six in /opt/conda/lib/python3.7/site-packages (from sacremoses->transformers>=4.0.0->pororo) (1.14.0)\n",
      "Requirement already satisfied: pyparsing>=2.0.2 in /opt/conda/lib/python3.7/site-packages (from packaging->transformers>=4.0.0->pororo) (2.4.7)\n",
      "Requirement already satisfied: PyYAML>=5.1.* in /opt/conda/lib/python3.7/site-packages (from omegaconf<2.1,>=2.0.5->hydra-core->fairseq>=0.10.2->pororo) (5.3.1)\n",
      "Building wheels for collected packages: marisa-trie\n",
      "  Building wheel for marisa-trie (setup.py) ... \u001b[?25ldone\n",
      "\u001b[?25h  Created wheel for marisa-trie: filename=marisa_trie-0.7.5-cp37-cp37m-linux_x86_64.whl size=877096 sha256=f8665b3bcfcb3aa1eac6fc89125ae1a23a2c56fde07c6a2750dca30fc0862f1f\n",
      "  Stored in directory: /opt/ml/.cache/pip/wheels/01/ac/46/c838fd1aee138a8fd92ae30b04020995182eb4d99dec1e12ea\n",
      "Successfully built marisa-trie\n",
      "Installing collected packages: marisa-trie, pororo\n",
      "Successfully installed marisa-trie-0.7.5 pororo-0.4.2\n"
     ]
    }
   ],
   "source": [
    "!pip install pororo"
   ]
  },
  {
   "cell_type": "code",
   "execution_count": 13,
   "id": "c86db6e0-3130-4d21-b126-0aef49aa121b",
   "metadata": {},
   "outputs": [
    {
     "data": {
      "text/plain": [
       "\"Available tasks are ['mrc', 'rc', 'qa', 'question_answering', 'machine_reading_comprehension', 'reading_comprehension', 'sentiment', 'sentiment_analysis', 'nli', 'natural_language_inference', 'inference', 'fill', 'fill_in_blank', 'fib', 'para', 'pi', 'cse', 'contextual_subword_embedding', 'similarity', 'sts', 'semantic_textual_similarity', 'sentence_similarity', 'sentvec', 'sentence_embedding', 'sentence_vector', 'se', 'inflection', 'morphological_inflection', 'g2p', 'grapheme_to_phoneme', 'grapheme_to_phoneme_conversion', 'w2v', 'wordvec', 'word2vec', 'word_vector', 'word_embedding', 'tokenize', 'tokenise', 'tokenization', 'tokenisation', 'tok', 'segmentation', 'seg', 'mt', 'machine_translation', 'translation', 'pos', 'tag', 'pos_tagging', 'tagging', 'const', 'constituency', 'constituency_parsing', 'cp', 'pg', 'collocation', 'collocate', 'col', 'word_translation', 'wt', 'summarization', 'summarisation', 'text_summarization', 'text_summarisation', 'summary', 'gec', 'review', 'review_scoring', 'lemmatization', 'lemmatisation', 'lemma', 'ner', 'named_entity_recognition', 'entity_recognition', 'zero-topic', 'dp', 'dep_parse', 'caption', 'captioning', 'asr', 'speech_recognition', 'st', 'speech_translation', 'tts', 'text_to_speech', 'speech_synthesis', 'ocr', 'srl', 'semantic_role_labeling', 'p2g', 'aes', 'essay', 'qg', 'question_generation', 'age_suitability', 'wsd']\""
      ]
     },
     "execution_count": 13,
     "metadata": {},
     "output_type": "execute_result"
    }
   ],
   "source": [
    "from pororo import Pororo\n",
    "Pororo.available_tasks()"
   ]
  },
  {
   "cell_type": "code",
   "execution_count": 139,
   "id": "fe5399b6-d5f3-4d12-a168-3ca4c4e6120c",
   "metadata": {
    "tags": []
   },
   "outputs": [
    {
     "name": "stdout",
     "output_type": "stream",
     "text": [
      "그의 삼촌은 루이스 13세이며 남편 루이 14세가 사촌이 된다.\n",
      "None\n"
     ]
    }
   ],
   "source": [
    "import pickle\n",
    "import pandas as pd\n",
    "from pororo import Pororo\n",
    "from tqdm import tqdm\n",
    "def cycle_translation_en(row):\n",
    "    s = row[1]\n",
    "    s_en = mt(s, 'ko', 'en')\n",
    "    s_ko = mt(s_en, 'en', 'ko')\n",
    "    print(s_ko)\n",
    "    if row[2] in s_ko and row[5] in s_ko:\n",
    "        return s_ko\n",
    "    else:\n",
    "        return None\n",
    "\n",
    "with open('./input/data/label_type.pkl', 'rb') as f:\n",
    "    label_type = pickle.load(f)\n",
    "df = pd.read_csv('./code/prediction/test.csv', sep='\\t', header=None)\n",
    "mt = Pororo(task='translation', lang='multi')\n",
    "d=cycle_translation_en(['',\"그의 외삼촌은 루이 13세로, 남편인 루이 14세는 외사촌 오빠가 된다.\",\"루이 14세\",'','',\"루이 13세\"])\n",
    "print(d)"
   ]
  },
  {
   "cell_type": "code",
   "execution_count": null,
   "id": "24c30c5f-8891-444f-a3f2-91b31993924b",
   "metadata": {},
   "outputs": [
    {
     "name": "stderr",
     "output_type": "stream",
     "text": [
      "1058it [50:57,  1.67s/it]"
     ]
    }
   ],
   "source": [
    "# cycle_df_en = cycle_translation_en(df[:10])\n",
    "# cycle_df_en\n",
    "for i, row in tqdm(df.iterrows()):\n",
    "    row[1] = cycle_translation_en(row)"
   ]
  },
  {
   "cell_type": "code",
   "execution_count": 200,
   "id": "b76472b3-cf7e-4426-9f13-1897f5182fd2",
   "metadata": {},
   "outputs": [
    {
     "name": "stdout",
     "output_type": "stream",
     "text": [
      "/opt/ml/code\n"
     ]
    }
   ],
   "source": [
    "cd code"
   ]
  },
  {
   "cell_type": "code",
   "execution_count": 264,
   "id": "7fe145b7-bcd5-4abd-bf9b-93ce3b621c69",
   "metadata": {
    "tags": []
   },
   "outputs": [],
   "source": [
    "import numpy as np\n",
    "import pandas as pd\n",
    "import torch.nn.functional as F\n",
    "import torch\n",
    "import copy\n",
    "import random\n",
    "from glob import glob\n",
    "from collections import defaultdict\n",
    "arr = []\n",
    "for file_path in glob('./prediction/*csv'):\n",
    "    arr.append(pd.read_csv(file_path).values)\n",
    "# for i in range(1000):\n",
    "#     voting = {}\n",
    "#print(arr[0][0])\n",
    "pred = []\n",
    "for i in range(1000):\n",
    "    voting = defaultdict(int)\n",
    "    for j in range(len(arr)):\n",
    "        #print(arr[j])\n",
    "        num = arr[j][i][0]\n",
    "        voting[num] += 1\n",
    "        \n",
    "    pred.append(sorted(voting.items(), key=lambda x:x[1], reverse=True)[0][0])\n",
    "#    print(sorted(voting.items(), key=lambda x:x[1], reverse=True))\n",
    "output = pd.DataFrame(pred, columns=['pred'])\n",
    "output.to_csv(\"final.csv\", index=False)"
   ]
  },
  {
   "cell_type": "code",
   "execution_count": 196,
   "id": "0c9f12fb-ea9d-49c9-b15c-6dcb1c6f9ac5",
   "metadata": {},
   "outputs": [
    {
     "name": "stdout",
     "output_type": "stream",
     "text": [
      "50it [00:14,  3.51it/s]\n"
     ]
    }
   ],
   "source": [
    "!python inference-entity.py --model_name XLMRobertaForSequenceClassification --tokenizer_name XLMRobertaTokenizer --model_path ./results/entity --k_num 1"
   ]
  },
  {
   "cell_type": "code",
   "execution_count": 383,
   "id": "137f5e57-4701-4593-a697-bb0101caa5b7",
   "metadata": {},
   "outputs": [
    {
     "data": {
      "text/plain": [
       "4"
      ]
     },
     "execution_count": 383,
     "metadata": {},
     "output_type": "execute_result"
    }
   ],
   "source": [
    "from transformers import XLMRobertaTokenizer, XLMRobertaForSequenceClassification, Trainer, TrainingArguments\n",
    "MODEL_NAME = \"xlm-roberta-large\"\n",
    "tokenizer = XLMRobertaTokenizer.from_pretrained(MODEL_NAME)\n",
    "tokenizer.add_special_tokens({\"additional_special_tokens\": [\" @ \", \" α \", ' # ', ' β ']})"
   ]
  },
  {
   "cell_type": "code",
   "execution_count": 377,
   "id": "1ffa01e4-1653-42d9-840d-9a602099f779",
   "metadata": {
    "tags": []
   },
   "outputs": [
    {
     "name": "stdout",
     "output_type": "stream",
     "text": [
      "선거에서  @ * 민주당 * ORGANIZATION @ 은 해산 전 의석인 230석에 한참 못 미치는 57석(지역구  # ∧ 27석 ∧ QUANTITY # , 비례대표 30석)을 획득하는 데 그쳤다. @ * 민주당 * ORGANIZATION @ </s> # ∧ 27석 ∧ QUANTITY # \n"
     ]
    }
   ],
   "source": [
    "# !apt-get install g++ -y\n",
    "# !pip install pororo\n",
    "from pororo import Pororo\n",
    "ner = Pororo(task='ner', lang='ko')\n",
    "mt = Pororo(task='translation', lang='multi')\n",
    "import pandas as pd\n",
    "\n",
    "df = pd.read_csv('/opt/ml/input/data/train/train.tsv', sep='\\t')\n",
    "df.values\n",
    "for s in df.values[:1]:\n",
    "    #ns = ner(ms)\n",
    "    #encode = tokenizer.tokenize(s[0]+\"</s>\"+s[1]+\"</s>\"+s[2])\n",
    "    e1_s, e1_e = int(s[3]), int(s[4])+1\n",
    "    e2_s, e2_e = int(s[6]), int(s[7])+1\n",
    "    sentence = s[1]\n",
    "    n_s1 = ner(sentence[e1_s:e1_e])[0]\n",
    "    n_s2 = ner(sentence[e2_s:e2_e])[0]\n",
    "    entity1 = ' @ ' + ' * ' + n_s1[0] + ' * ' + n_s1[1] +  ' @ '\n",
    "    entity2 = ' # ' + ' ∧ ' +  n_s2[0] + ' ∧ ' +  n_s2[1] + ' # '\n",
    "    sentence = sentence[:e1_s] + entity1 + sentence[e1_e:e2_s] + entity2 + sentence[e2_e:] + entity1 + '</s>' + entity2\n",
    "    \n",
    "    print(sentence)\n",
    "# sent = \"선거에서 @민주당@은 해산 전 의석인 230석에 한참 못 미치는 57석(지역구 @27석@, 비례대표 30석)을 획득하는 데 그쳤다.\"+\"[SEP]\"+\" @ 민주당 @ \"+\"</s>\" + \"@27석@\"\n",
    "# print(tokenizer.tokenize(sent))\n",
    "#text = [n for n in ner(sentence) if n[0] != ' ']\n"
   ]
  },
  {
   "cell_type": "code",
   "execution_count": 384,
   "id": "3a98f19c-9337-45e1-97ae-fd65255ba0f4",
   "metadata": {},
   "outputs": [
    {
     "data": {
      "text/plain": [
       "['▁영국',\n",
       " '에서',\n",
       " '▁사용',\n",
       " '되는',\n",
       " '▁스포츠',\n",
       " '▁유',\n",
       " '틸',\n",
       " '리',\n",
       " '티',\n",
       " ' @ ',\n",
       " '▁α',\n",
       " '▁ART',\n",
       " 'IF',\n",
       " 'ACT',\n",
       " ' α ',\n",
       " '▁자동차',\n",
       " '@',\n",
       " '의',\n",
       " '▁브랜드',\n",
       " '로는',\n",
       " ' # ',\n",
       " '▁β',\n",
       " '▁ORGANIZA',\n",
       " 'TION',\n",
       " ' β ',\n",
       " '▁',\n",
       " '랜드',\n",
       " '로',\n",
       " '버',\n",
       " '#',\n",
       " '(',\n",
       " 'Land',\n",
       " '▁Rover',\n",
       " ')',\n",
       " '와',\n",
       " '▁지',\n",
       " '프',\n",
       " '(',\n",
       " 'Je',\n",
       " 'ep',\n",
       " ')',\n",
       " '가',\n",
       " '▁있으며',\n",
       " ',',\n",
       " '▁이',\n",
       " '▁브랜드',\n",
       " '들은',\n",
       " '▁자동차',\n",
       " '의',\n",
       " '▁종류',\n",
       " '를',\n",
       " '▁일',\n",
       " '컫',\n",
       " '는',\n",
       " '▁말',\n",
       " '로',\n",
       " '▁사용',\n",
       " '되기',\n",
       " '도',\n",
       " '▁한다',\n",
       " '.',\n",
       " '▁',\n",
       " '랜드',\n",
       " '로',\n",
       " '버',\n",
       " '▁자동차',\n",
       " '▁17']"
      ]
     },
     "execution_count": 384,
     "metadata": {},
     "output_type": "execute_result"
    }
   ],
   "source": [
    "#tokenizer.tokenize(sentence)\n",
    "tokenizer.tokenize(\"영국에서 사용되는 스포츠 유틸리티 @ α ARTIFACT α 자동차@의 브랜드로는 # β ORGANIZATION β 랜드로버#(Land Rover)와 지프(Jeep)가 있으며, 이 브랜드들은 자동차의 종류를 일컫는 말로 사용되기도 한다.\t랜드로버\t자동차\t17\")"
   ]
  }
 ],
 "metadata": {
  "kernelspec": {
   "display_name": "Python 3",
   "language": "python",
   "name": "python3"
  },
  "language_info": {
   "codemirror_mode": {
    "name": "ipython",
    "version": 3
   },
   "file_extension": ".py",
   "mimetype": "text/x-python",
   "name": "python",
   "nbconvert_exporter": "python",
   "pygments_lexer": "ipython3",
   "version": "3.7.7"
  }
 },
 "nbformat": 4,
 "nbformat_minor": 5
}
